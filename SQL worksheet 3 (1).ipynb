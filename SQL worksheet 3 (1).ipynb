{
 "cells": [
  {
   "cell_type": "markdown",
   "id": "45f531c5",
   "metadata": {},
   "source": [
    "#### 1. Write SQL query to create table Customers."
   ]
  },
  {
   "cell_type": "code",
   "execution_count": 1,
   "id": "046d4802",
   "metadata": {},
   "outputs": [],
   "source": [
    "#!pip install mysql\n",
    "import mysql.connector"
   ]
  },
  {
   "cell_type": "markdown",
   "id": "39a9d2bf",
   "metadata": {},
   "source": [
    "mydb = mysql.connector.connect(\n",
    "    host = \"localhost\",\n",
    "    user = \"root\",\n",
    "    password = \"root2020\"\n",
    ")\n",
    "print(mydb)"
   ]
  },
  {
   "cell_type": "code",
   "execution_count": 4,
   "id": "a710ed23",
   "metadata": {},
   "outputs": [],
   "source": [
    "#create database\n",
    "mycursor = mydb.cursor()\n",
    "\n",
    "mycursor.execute(\"create database worksheet4\")"
   ]
  },
  {
   "cell_type": "code",
   "execution_count": 8,
   "id": "08e36f5c",
   "metadata": {},
   "outputs": [],
   "source": [
    "mydb = mysql.connector.connect(\n",
    "    host=\"localhost\",\n",
    "    user=\"root\",\n",
    "    password=\"root2020\",\n",
    "    database=\"worksheet4\"\n",
    ")\n",
    "mycursor = mydb.cursor()    \n",
    "mycursor.execute(\"CREATE TABLE customers(customer_number integer,customer_name varchar(25),contact_first_name varchar(25),contact_last_name varchar(25),phone integer,address_line1 varchar(25),address_line2 varchar(25),city varchar(25),state varchar(25),poatal_code integer,country varchar(25),credit_limit integer)\")"
   ]
  },
  {
   "cell_type": "code",
   "execution_count": 9,
   "id": "c894b506",
   "metadata": {},
   "outputs": [
    {
     "name": "stdout",
     "output_type": "stream",
     "text": [
      "('customers',)\n"
     ]
    }
   ],
   "source": [
    "mydb = mysql.connector.connect(\n",
    "    host=\"localhost\",\n",
    "    user=\"root\",\n",
    "    password=\"root2020\",\n",
    "    database=\"worksheet4\"\n",
    ")\n",
    "mycursor = mydb.cursor()\n",
    "\n",
    "mycursor.execute(\"show tables\")\n",
    "\n",
    "for x in mycursor:\n",
    "    print(x)"
   ]
  },
  {
   "cell_type": "markdown",
   "id": "01bcf02f",
   "metadata": {},
   "source": [
    "#### 2. Write SQL query to create table Orders."
   ]
  },
  {
   "cell_type": "code",
   "execution_count": 11,
   "id": "4b887493",
   "metadata": {},
   "outputs": [
    {
     "ename": "ProgrammingError",
     "evalue": "1050 (42S01): Table 'orders' already exists",
     "output_type": "error",
     "traceback": [
      "\u001b[1;31m---------------------------------------------------------------------------\u001b[0m",
      "\u001b[1;31mMySQLInterfaceError\u001b[0m                       Traceback (most recent call last)",
      "\u001b[1;32mC:\\ProgramData\\Anaconda3\\lib\\site-packages\\mysql\\connector\\connection_cext.py\u001b[0m in \u001b[0;36mcmd_query\u001b[1;34m(self, query, raw, buffered, raw_as_string)\u001b[0m\n\u001b[0;32m    512\u001b[0m                 \u001b[0mquery\u001b[0m \u001b[1;33m=\u001b[0m \u001b[0mquery\u001b[0m\u001b[1;33m.\u001b[0m\u001b[0mencode\u001b[0m\u001b[1;33m(\u001b[0m\u001b[1;34m'utf-8'\u001b[0m\u001b[1;33m)\u001b[0m\u001b[1;33m\u001b[0m\u001b[1;33m\u001b[0m\u001b[0m\n\u001b[1;32m--> 513\u001b[1;33m             self._cmysql.query(query,\n\u001b[0m\u001b[0;32m    514\u001b[0m                                \u001b[0mraw\u001b[0m\u001b[1;33m=\u001b[0m\u001b[0mraw\u001b[0m\u001b[1;33m,\u001b[0m \u001b[0mbuffered\u001b[0m\u001b[1;33m=\u001b[0m\u001b[0mbuffered\u001b[0m\u001b[1;33m,\u001b[0m\u001b[1;33m\u001b[0m\u001b[1;33m\u001b[0m\u001b[0m\n",
      "\u001b[1;31mMySQLInterfaceError\u001b[0m: Table 'orders' already exists",
      "\nDuring handling of the above exception, another exception occurred:\n",
      "\u001b[1;31mProgrammingError\u001b[0m                          Traceback (most recent call last)",
      "\u001b[1;32m<ipython-input-11-63d6e6e5dc73>\u001b[0m in \u001b[0;36m<module>\u001b[1;34m\u001b[0m\n\u001b[0;32m      6\u001b[0m )\n\u001b[0;32m      7\u001b[0m \u001b[0mmycursor\u001b[0m \u001b[1;33m=\u001b[0m \u001b[0mmydb\u001b[0m\u001b[1;33m.\u001b[0m\u001b[0mcursor\u001b[0m\u001b[1;33m(\u001b[0m\u001b[1;33m)\u001b[0m\u001b[1;33m\u001b[0m\u001b[1;33m\u001b[0m\u001b[0m\n\u001b[1;32m----> 8\u001b[1;33m \u001b[0mmycursor\u001b[0m\u001b[1;33m.\u001b[0m\u001b[0mexecute\u001b[0m\u001b[1;33m(\u001b[0m\u001b[1;34m\"CREATE TABLE orders(order_number integer,order_date integer,required_date integer,shipped_date integer,status varchar(25),comments varchar(25),customer_number integer)\"\u001b[0m\u001b[1;33m)\u001b[0m\u001b[1;33m\u001b[0m\u001b[1;33m\u001b[0m\u001b[0m\n\u001b[0m",
      "\u001b[1;32mC:\\ProgramData\\Anaconda3\\lib\\site-packages\\mysql\\connector\\cursor_cext.py\u001b[0m in \u001b[0;36mexecute\u001b[1;34m(self, operation, params, multi)\u001b[0m\n\u001b[0;32m    267\u001b[0m \u001b[1;33m\u001b[0m\u001b[0m\n\u001b[0;32m    268\u001b[0m         \u001b[1;32mtry\u001b[0m\u001b[1;33m:\u001b[0m\u001b[1;33m\u001b[0m\u001b[1;33m\u001b[0m\u001b[0m\n\u001b[1;32m--> 269\u001b[1;33m             result = self._cnx.cmd_query(stmt, raw=self._raw,\n\u001b[0m\u001b[0;32m    270\u001b[0m                                          \u001b[0mbuffered\u001b[0m\u001b[1;33m=\u001b[0m\u001b[0mself\u001b[0m\u001b[1;33m.\u001b[0m\u001b[0m_buffered\u001b[0m\u001b[1;33m,\u001b[0m\u001b[1;33m\u001b[0m\u001b[1;33m\u001b[0m\u001b[0m\n\u001b[0;32m    271\u001b[0m                                          raw_as_string=self._raw_as_string)\n",
      "\u001b[1;32mC:\\ProgramData\\Anaconda3\\lib\\site-packages\\mysql\\connector\\connection_cext.py\u001b[0m in \u001b[0;36mcmd_query\u001b[1;34m(self, query, raw, buffered, raw_as_string)\u001b[0m\n\u001b[0;32m    516\u001b[0m                                query_attrs=self._query_attrs)\n\u001b[0;32m    517\u001b[0m         \u001b[1;32mexcept\u001b[0m \u001b[0mMySQLInterfaceError\u001b[0m \u001b[1;32mas\u001b[0m \u001b[0mexc\u001b[0m\u001b[1;33m:\u001b[0m\u001b[1;33m\u001b[0m\u001b[1;33m\u001b[0m\u001b[0m\n\u001b[1;32m--> 518\u001b[1;33m             raise errors.get_mysql_exception(exc.errno, msg=exc.msg,\n\u001b[0m\u001b[0;32m    519\u001b[0m                                              sqlstate=exc.sqlstate)\n\u001b[0;32m    520\u001b[0m         \u001b[1;32mexcept\u001b[0m \u001b[0mAttributeError\u001b[0m\u001b[1;33m:\u001b[0m\u001b[1;33m\u001b[0m\u001b[1;33m\u001b[0m\u001b[0m\n",
      "\u001b[1;31mProgrammingError\u001b[0m: 1050 (42S01): Table 'orders' already exists"
     ]
    }
   ],
   "source": [
    "mydb = mysql.connector.connect(\n",
    "    host=\"localhost\",\n",
    "    user=\"root\",\n",
    "    password=\"root2020\",\n",
    "    database=\"worksheet4\"\n",
    ")\n",
    "mycursor = mydb.cursor()    \n",
    "mycursor.execute(\"CREATE TABLE orders(order_number integer,order_date integer,required_date integer,shipped_date integer,status varchar(25),comments varchar(25),customer_number integer)\")"
   ]
  },
  {
   "cell_type": "code",
   "execution_count": 16,
   "id": "86ef8853",
   "metadata": {},
   "outputs": [
    {
     "name": "stdout",
     "output_type": "stream",
     "text": [
      "('customers',)\n",
      "('orders',)\n"
     ]
    }
   ],
   "source": [
    "mydb = mysql.connector.connect(\n",
    "    host=\"localhost\",\n",
    "    user=\"root\",\n",
    "    password=\"root2020\",\n",
    "    database=\"worksheet4\"\n",
    ")\n",
    "mycursor = mydb.cursor()\n",
    "\n",
    "mycursor.execute(\"show tables\")\n",
    "\n",
    "for x in mycursor:\n",
    "    print(x)"
   ]
  },
  {
   "cell_type": "markdown",
   "id": "be08e818",
   "metadata": {},
   "source": [
    "#### 3. Write SQL query to show all the columns data from the Orders Table."
   ]
  },
  {
   "cell_type": "code",
   "execution_count": 15,
   "id": "91d6f0a5",
   "metadata": {},
   "outputs": [
    {
     "name": "stdout",
     "output_type": "stream",
     "text": [
      "('order_number', b'int', 'YES', '', None, '')\n",
      "('order_date', b'int', 'YES', '', None, '')\n",
      "('required_date', b'int', 'YES', '', None, '')\n",
      "('shipped_date', b'int', 'YES', '', None, '')\n",
      "('status', b'varchar(25)', 'YES', '', None, '')\n",
      "('comments', b'varchar(25)', 'YES', '', None, '')\n",
      "('customer_number', b'int', 'YES', '', None, '')\n"
     ]
    }
   ],
   "source": [
    "mydb = mysql.connector.connect(\n",
    "    host=\"localhost\",\n",
    "    user=\"root\",\n",
    "    password=\"root2020\",\n",
    "    database=\"worksheet4\"\n",
    ")\n",
    "mycursor = mydb.cursor()\n",
    "\n",
    "mycursor.execute(\"show columns from orders\")\n",
    "\n",
    "for x in mycursor:\n",
    "    print(x)"
   ]
  },
  {
   "cell_type": "markdown",
   "id": "cc91719f",
   "metadata": {},
   "source": [
    "#### 4. Write SQL query to show all the comments from the Orders Table."
   ]
  },
  {
   "cell_type": "code",
   "execution_count": null,
   "id": "7b6d5659",
   "metadata": {},
   "outputs": [],
   "source": [
    "mydb = mysql.connector.connect(\n",
    "    host=\"localhost\",\n",
    "    user=\"root\",\n",
    "    password=\"root2020\",\n",
    "    database=\"worksheet4\"\n",
    ")\n"
   ]
  },
  {
   "cell_type": "code",
   "execution_count": null,
   "id": "adbfb91d",
   "metadata": {},
   "outputs": [],
   "source": [
    "SELECT `orderDate`, COUNT(`orderNumber`) as `Total number of orders`\n",
    "FROM Orders\n",
    "GROUP BY `orderDate`;"
   ]
  },
  {
   "cell_type": "code",
   "execution_count": null,
   "id": "7cda41db",
   "metadata": {},
   "outputs": [],
   "source": [
    "SELECT `employeeNumber` ,`lastName` ,`firstName` FROM Employees;"
   ]
  },
  {
   "cell_type": "code",
   "execution_count": null,
   "id": "263412d6",
   "metadata": {},
   "outputs": [],
   "source": [
    "SELECT `orderNumber` ,`customerName`\n",
    "FROM Orders INNER JOIN customers\n",
    "ON orders.`customerNumber`= customers.`customerNumber`;"
   ]
  },
  {
   "cell_type": "code",
   "execution_count": null,
   "id": "deb2a103",
   "metadata": {},
   "outputs": [],
   "source": [
    "SELECT `customerName` , CONCAT(`firstName`,`lastName`)\n",
    "FROM employees INNER JOIN customers\n",
    "ON Employees.`employeeNumber`= customers.`salesRepEmployeeNumber`;"
   ]
  },
  {
   "cell_type": "code",
   "execution_count": null,
   "id": "c291eafe",
   "metadata": {},
   "outputs": [],
   "source": [
    "SELECT `paymentDate`, SUM(amount)\n",
    "FROM payments\n",
    "GROUP BY `paymentDate`;"
   ]
  },
  {
   "cell_type": "code",
   "execution_count": null,
   "id": "1a416316",
   "metadata": {},
   "outputs": [],
   "source": [
    "SELECT `productName`,`MSRP`,`productDescription` FROM products;"
   ]
  },
  {
   "cell_type": "code",
   "execution_count": null,
   "id": "afe4832c",
   "metadata": {},
   "outputs": [],
   "source": []
  }
 ],
 "metadata": {
  "kernelspec": {
   "display_name": "Python 3",
   "language": "python",
   "name": "python3"
  },
  "language_info": {
   "codemirror_mode": {
    "name": "ipython",
    "version": 3
   },
   "file_extension": ".py",
   "mimetype": "text/x-python",
   "name": "python",
   "nbconvert_exporter": "python",
   "pygments_lexer": "ipython3",
   "version": "3.8.8"
  }
 },
 "nbformat": 4,
 "nbformat_minor": 5
}
